{
 "cells": [
  {
   "cell_type": "code",
   "execution_count": 2,
   "metadata": {},
   "outputs": [],
   "source": [
    "import pandas as pd"
   ]
  },
  {
   "cell_type": "code",
   "execution_count": null,
   "metadata": {},
   "outputs": [],
   "source": [
    "lista = []\n",
    "for i in range(1, 12):\n",
    "    file = f\"Data/metadatos-sitios/{i}.json\"\n",
    "    df = pd.read_json(file, lines=True)\n",
    "    lista.append(df)\n",
    "\n",
    "df_metadatos = pd.concat(lista, ignore_index=True)"
   ]
  },
  {
   "cell_type": "code",
   "execution_count": null,
   "metadata": {},
   "outputs": [],
   "source": [
    "def buscar_florida(address):\n",
    "    for i in range(len(address)):\n",
    "        if address[i] == \"F\" and address[i + 1] == \"L\":\n",
    "            return True\n",
    "        elif address[i:i + 7] == \"Florida\":\n",
    "            return True\n",
    "    return False"
   ]
  },
  {
   "cell_type": "code",
   "execution_count": null,
   "metadata": {},
   "outputs": [],
   "source": [
    "address = df_metadatos[\"address\"]\n",
    "df_florida = df_metadatos[address.apply(buscar_florida)]"
   ]
  },
  {
   "cell_type": "code",
   "execution_count": null,
   "metadata": {},
   "outputs": [],
   "source": [
    "df_florida.to_parquet(\"Data/metadatos_florida.parquet\")"
   ]
  }
 ],
 "metadata": {
  "kernelspec": {
   "display_name": "Python 3",
   "language": "python",
   "name": "python3"
  },
  "language_info": {
   "codemirror_mode": {
    "name": "ipython",
    "version": 3
   },
   "file_extension": ".py",
   "mimetype": "text/x-python",
   "name": "python",
   "nbconvert_exporter": "python",
   "pygments_lexer": "ipython3",
   "version": "3.12.0"
  }
 },
 "nbformat": 4,
 "nbformat_minor": 2
}
