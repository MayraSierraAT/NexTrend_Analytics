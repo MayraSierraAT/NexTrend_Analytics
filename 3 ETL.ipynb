{
 "cells": [
  {
   "cell_type": "code",
   "execution_count": 1,
   "metadata": {},
   "outputs": [],
   "source": [
    "# Importamos las librerías necesarias\n",
    "import pandas as pd\n",
    "import numpy as np\n",
    "import warnings\n",
    "warnings.filterwarnings(\"ignore\")"
   ]
  },
  {
   "cell_type": "code",
   "execution_count": 2,
   "metadata": {},
   "outputs": [
    {
     "name": "stdout",
     "output_type": "stream",
     "text": [
      "<class 'pandas.core.frame.DataFrame'>\n",
      "Index: 150346 entries, 0 to 150345\n",
      "Data columns (total 28 columns):\n",
      " #   Column        Non-Null Count   Dtype \n",
      "---  ------        --------------   ----- \n",
      " 0   business_id   150346 non-null  object\n",
      " 1   name          150346 non-null  object\n",
      " 2   address       150346 non-null  object\n",
      " 3   city          150346 non-null  object\n",
      " 4   state         150343 non-null  object\n",
      " 5   postal_code   150346 non-null  object\n",
      " 6   latitude      150346 non-null  object\n",
      " 7   longitude     150346 non-null  object\n",
      " 8   stars         150346 non-null  object\n",
      " 9   review_count  150346 non-null  object\n",
      " 10  is_open       150346 non-null  object\n",
      " 11  attributes    136602 non-null  object\n",
      " 12  categories    150243 non-null  object\n",
      " 13  hours         127123 non-null  object\n",
      " 14  business_id   5 non-null       object\n",
      " 15  name          5 non-null       object\n",
      " 16  address       5 non-null       object\n",
      " 17  city          5 non-null       object\n",
      " 18  state         5 non-null       object\n",
      " 19  postal_code   5 non-null       object\n",
      " 20  latitude      5 non-null       object\n",
      " 21  longitude     5 non-null       object\n",
      " 22  stars         5 non-null       object\n",
      " 23  review_count  5 non-null       object\n",
      " 24  is_open       5 non-null       object\n",
      " 25  attributes    5 non-null       object\n",
      " 26  categories    5 non-null       object\n",
      " 27  hours         5 non-null       object\n",
      "dtypes: object(28)\n",
      "memory usage: 33.3+ MB\n"
     ]
    }
   ],
   "source": [
    "# Leemos el primer archivo\n",
    "df_business = pd.read_pickle(\"Data/business.pkl\")\n",
    "df_business.info() # Visualizamos la información"
   ]
  },
  {
   "cell_type": "code",
   "execution_count": 3,
   "metadata": {},
   "outputs": [],
   "source": [
    "# Lo transformamos a un formato más manejable\n",
    "df_business.to_csv(\"Data/New_data/df_business\")"
   ]
  },
  {
   "cell_type": "code",
   "execution_count": 4,
   "metadata": {},
   "outputs": [
    {
     "name": "stdout",
     "output_type": "stream",
     "text": [
      "<class 'pandas.core.frame.DataFrame'>\n",
      "RangeIndex: 150346 entries, 0 to 150345\n",
      "Data columns (total 29 columns):\n",
      " #   Column          Non-Null Count   Dtype  \n",
      "---  ------          --------------   -----  \n",
      " 0   Unnamed: 0      150346 non-null  int64  \n",
      " 1   business_id     150346 non-null  object \n",
      " 2   name            150346 non-null  object \n",
      " 3   address         145219 non-null  object \n",
      " 4   city            150346 non-null  object \n",
      " 5   state           150343 non-null  object \n",
      " 6   postal_code     150273 non-null  object \n",
      " 7   latitude        150346 non-null  float64\n",
      " 8   longitude       150346 non-null  float64\n",
      " 9   stars           150346 non-null  float64\n",
      " 10  review_count    150346 non-null  int64  \n",
      " 11  is_open         150346 non-null  int64  \n",
      " 12  attributes      136602 non-null  object \n",
      " 13  categories      150243 non-null  object \n",
      " 14  hours           127123 non-null  object \n",
      " 15  business_id.1   5 non-null       object \n",
      " 16  name.1          5 non-null       object \n",
      " 17  address.1       5 non-null       object \n",
      " 18  city.1          5 non-null       object \n",
      " 19  state.1         5 non-null       object \n",
      " 20  postal_code.1   5 non-null       object \n",
      " 21  latitude.1      5 non-null       float64\n",
      " 22  longitude.1     5 non-null       float64\n",
      " 23  stars.1         5 non-null       float64\n",
      " 24  review_count.1  5 non-null       float64\n",
      " 25  is_open.1       5 non-null       float64\n",
      " 26  attributes.1    5 non-null       object \n",
      " 27  categories.1    5 non-null       object \n",
      " 28  hours.1         5 non-null       object \n",
      "dtypes: float64(8), int64(3), object(18)\n",
      "memory usage: 33.3+ MB\n"
     ]
    }
   ],
   "source": [
    "# Releemos la archivo en el formato correcto\n",
    "df_business = pd.read_csv(\"Data/New_data/df_business\")\n",
    "df_business.info()"
   ]
  },
  {
   "cell_type": "code",
   "execution_count": 5,
   "metadata": {},
   "outputs": [
    {
     "name": "stdout",
     "output_type": "stream",
     "text": [
      "<class 'pandas.core.frame.DataFrame'>\n",
      "RangeIndex: 150346 entries, 0 to 150345\n",
      "Data columns (total 14 columns):\n",
      " #   Column        Non-Null Count   Dtype  \n",
      "---  ------        --------------   -----  \n",
      " 0   business_id   150346 non-null  object \n",
      " 1   name          150346 non-null  object \n",
      " 2   address       145219 non-null  object \n",
      " 3   city          150346 non-null  object \n",
      " 4   state         150343 non-null  object \n",
      " 5   postal_code   150273 non-null  object \n",
      " 6   latitude      150346 non-null  float64\n",
      " 7   longitude     150346 non-null  float64\n",
      " 8   stars         150346 non-null  float64\n",
      " 9   review_count  150346 non-null  int64  \n",
      " 10  is_open       150346 non-null  int64  \n",
      " 11  attributes    136602 non-null  object \n",
      " 12  categories    150243 non-null  object \n",
      " 13  hours         127123 non-null  object \n",
      "dtypes: float64(3), int64(2), object(9)\n",
      "memory usage: 16.1+ MB\n"
     ]
    }
   ],
   "source": [
    "# Eliminamos columnas repetidas\n",
    "df_business = df_business.drop(columns=[\"Unnamed: 0\", \"business_id.1\", \"name.1\", \"address.1\", \"city.1\", \"state.1\", \"postal_code.1\", \"latitude.1\", \"longitude.1\", \"stars.1\", \"review_count.1\", \"is_open.1\", \"attributes.1\", \"categories.1\", \"hours.1\"])\n",
    "df_business.info()"
   ]
  },
  {
   "cell_type": "code",
   "execution_count": 6,
   "metadata": {},
   "outputs": [
    {
     "data": {
      "text/html": [
       "<div>\n",
       "<style scoped>\n",
       "    .dataframe tbody tr th:only-of-type {\n",
       "        vertical-align: middle;\n",
       "    }\n",
       "\n",
       "    .dataframe tbody tr th {\n",
       "        vertical-align: top;\n",
       "    }\n",
       "\n",
       "    .dataframe thead th {\n",
       "        text-align: right;\n",
       "    }\n",
       "</style>\n",
       "<table border=\"1\" class=\"dataframe\">\n",
       "  <thead>\n",
       "    <tr style=\"text-align: right;\">\n",
       "      <th></th>\n",
       "      <th>business_id</th>\n",
       "      <th>name</th>\n",
       "      <th>address</th>\n",
       "      <th>city</th>\n",
       "      <th>state</th>\n",
       "      <th>postal_code</th>\n",
       "      <th>latitude</th>\n",
       "      <th>longitude</th>\n",
       "      <th>stars</th>\n",
       "      <th>review_count</th>\n",
       "      <th>is_open</th>\n",
       "      <th>attributes</th>\n",
       "      <th>categories</th>\n",
       "      <th>hours</th>\n",
       "    </tr>\n",
       "  </thead>\n",
       "  <tbody>\n",
       "    <tr>\n",
       "      <th>0</th>\n",
       "      <td>Pns2l4eNsfO8kk83dixA6A</td>\n",
       "      <td>Abby Rappoport, LAC, CMQ</td>\n",
       "      <td>1616 Chapala St, Ste 2</td>\n",
       "      <td>Santa Barbara</td>\n",
       "      <td>NaN</td>\n",
       "      <td>93101</td>\n",
       "      <td>34.426679</td>\n",
       "      <td>-119.711197</td>\n",
       "      <td>5.0</td>\n",
       "      <td>7</td>\n",
       "      <td>0</td>\n",
       "      <td>{'ByAppointmentOnly': 'True'}</td>\n",
       "      <td>Doctors, Traditional Chinese Medicine, Naturop...</td>\n",
       "      <td>NaN</td>\n",
       "    </tr>\n",
       "    <tr>\n",
       "      <th>1</th>\n",
       "      <td>mpf3x-BjTdTEA3yCZrAYPw</td>\n",
       "      <td>The UPS Store</td>\n",
       "      <td>87 Grasso Plaza Shopping Center</td>\n",
       "      <td>Affton</td>\n",
       "      <td>NaN</td>\n",
       "      <td>63123</td>\n",
       "      <td>38.551126</td>\n",
       "      <td>-90.335695</td>\n",
       "      <td>3.0</td>\n",
       "      <td>15</td>\n",
       "      <td>1</td>\n",
       "      <td>{'BusinessAcceptsCreditCards': 'True'}</td>\n",
       "      <td>Shipping Centers, Local Services, Notaries, Ma...</td>\n",
       "      <td>{'Monday': '0:0-0:0', 'Tuesday': '8:0-18:30', ...</td>\n",
       "    </tr>\n",
       "  </tbody>\n",
       "</table>\n",
       "</div>"
      ],
      "text/plain": [
       "              business_id                      name  \\\n",
       "0  Pns2l4eNsfO8kk83dixA6A  Abby Rappoport, LAC, CMQ   \n",
       "1  mpf3x-BjTdTEA3yCZrAYPw             The UPS Store   \n",
       "\n",
       "                           address           city state postal_code  \\\n",
       "0           1616 Chapala St, Ste 2  Santa Barbara   NaN       93101   \n",
       "1  87 Grasso Plaza Shopping Center         Affton   NaN       63123   \n",
       "\n",
       "    latitude   longitude  stars  review_count  is_open  \\\n",
       "0  34.426679 -119.711197    5.0             7        0   \n",
       "1  38.551126  -90.335695    3.0            15        1   \n",
       "\n",
       "                               attributes  \\\n",
       "0           {'ByAppointmentOnly': 'True'}   \n",
       "1  {'BusinessAcceptsCreditCards': 'True'}   \n",
       "\n",
       "                                          categories  \\\n",
       "0  Doctors, Traditional Chinese Medicine, Naturop...   \n",
       "1  Shipping Centers, Local Services, Notaries, Ma...   \n",
       "\n",
       "                                               hours  \n",
       "0                                                NaN  \n",
       "1  {'Monday': '0:0-0:0', 'Tuesday': '8:0-18:30', ...  "
      ]
     },
     "execution_count": 6,
     "metadata": {},
     "output_type": "execute_result"
    }
   ],
   "source": [
    "# Visualizamos la estructura de los datos\n",
    "df_business.head(2)"
   ]
  },
  {
   "cell_type": "code",
   "execution_count": 7,
   "metadata": {},
   "outputs": [],
   "source": [
    "# Cambiamos el tipo de dato de la columna \"state\"\n",
    "df_business[\"state\"] = df_business[\"state\"].astype(str)"
   ]
  },
  {
   "cell_type": "code",
   "execution_count": 8,
   "metadata": {},
   "outputs": [
    {
     "name": "stdout",
     "output_type": "stream",
     "text": [
      "<class 'pandas.core.frame.DataFrame'>\n",
      "Index: 26329 entries, 10 to 150320\n",
      "Data columns (total 14 columns):\n",
      " #   Column        Non-Null Count  Dtype  \n",
      "---  ------        --------------  -----  \n",
      " 0   business_id   26329 non-null  object \n",
      " 1   name          26329 non-null  object \n",
      " 2   address       25413 non-null  object \n",
      " 3   city          26329 non-null  object \n",
      " 4   state         26329 non-null  object \n",
      " 5   postal_code   26321 non-null  object \n",
      " 6   latitude      26329 non-null  float64\n",
      " 7   longitude     26329 non-null  float64\n",
      " 8   stars         26329 non-null  float64\n",
      " 9   review_count  26329 non-null  int64  \n",
      " 10  is_open       26329 non-null  int64  \n",
      " 11  attributes    23883 non-null  object \n",
      " 12  categories    26311 non-null  object \n",
      " 13  hours         22221 non-null  object \n",
      "dtypes: float64(3), int64(2), object(9)\n",
      "memory usage: 3.0+ MB\n"
     ]
    }
   ],
   "source": [
    "# Filtramos el dataframe con los registros que son de Florida \"FL\"\n",
    "df_business_florida = df_business[df_business[\"state\"] == \"FL\"]\n",
    "df_business_florida.info()"
   ]
  },
  {
   "cell_type": "code",
   "execution_count": 9,
   "metadata": {},
   "outputs": [
    {
     "name": "stdout",
     "output_type": "stream",
     "text": [
      "<class 'pandas.core.frame.DataFrame'>\n",
      "Index: 26311 entries, 10 to 150320\n",
      "Data columns (total 14 columns):\n",
      " #   Column        Non-Null Count  Dtype  \n",
      "---  ------        --------------  -----  \n",
      " 0   business_id   26311 non-null  object \n",
      " 1   name          26311 non-null  object \n",
      " 2   address       25395 non-null  object \n",
      " 3   city          26311 non-null  object \n",
      " 4   state         26311 non-null  object \n",
      " 5   postal_code   26303 non-null  object \n",
      " 6   latitude      26311 non-null  float64\n",
      " 7   longitude     26311 non-null  float64\n",
      " 8   stars         26311 non-null  float64\n",
      " 9   review_count  26311 non-null  int64  \n",
      " 10  is_open       26311 non-null  int64  \n",
      " 11  attributes    23882 non-null  object \n",
      " 12  categories    26311 non-null  object \n",
      " 13  hours         22221 non-null  object \n",
      "dtypes: float64(3), int64(2), object(9)\n",
      "memory usage: 3.0+ MB\n"
     ]
    }
   ],
   "source": [
    "# Eliminamos registros nulos de la columna \"categories\", para buscar bares\n",
    "df_business_florida = df_business_florida.dropna(subset=[\"categories\"])\n",
    "df_business_florida.info()"
   ]
  },
  {
   "cell_type": "code",
   "execution_count": 10,
   "metadata": {},
   "outputs": [
    {
     "name": "stdout",
     "output_type": "stream",
     "text": [
      "<class 'pandas.core.frame.DataFrame'>\n",
      "Index: 2466 entries, 61 to 150292\n",
      "Data columns (total 14 columns):\n",
      " #   Column        Non-Null Count  Dtype  \n",
      "---  ------        --------------  -----  \n",
      " 0   business_id   2466 non-null   object \n",
      " 1   name          2466 non-null   object \n",
      " 2   address       2458 non-null   object \n",
      " 3   city          2466 non-null   object \n",
      " 4   state         2466 non-null   object \n",
      " 5   postal_code   2466 non-null   object \n",
      " 6   latitude      2466 non-null   float64\n",
      " 7   longitude     2466 non-null   float64\n",
      " 8   stars         2466 non-null   float64\n",
      " 9   review_count  2466 non-null   int64  \n",
      " 10  is_open       2466 non-null   int64  \n",
      " 11  attributes    2452 non-null   object \n",
      " 12  categories    2466 non-null   object \n",
      " 13  hours         2248 non-null   object \n",
      "dtypes: float64(3), int64(2), object(9)\n",
      "memory usage: 289.0+ KB\n"
     ]
    }
   ],
   "source": [
    "# Definimos una función para buscar filtrar aquellos registros que tienen la categoría \"bars\"\n",
    "def filter_bars(df):\n",
    "    bars_mask = df[\"categories\"].str.contains(\"bars\", case=False)\n",
    "    df_filtered = df[bars_mask]\n",
    "    return df_filtered\n",
    "\n",
    "# Aplicamos la función\n",
    "df_bars_florida = filter_bars(df_business_florida)\n",
    "df_bars_florida.info()"
   ]
  },
  {
   "cell_type": "code",
   "execution_count": 11,
   "metadata": {},
   "outputs": [
    {
     "name": "stdout",
     "output_type": "stream",
     "text": [
      "<class 'pandas.core.frame.DataFrame'>\n",
      "Index: 2466 entries, 61 to 150292\n",
      "Data columns (total 14 columns):\n",
      " #   Column        Non-Null Count  Dtype  \n",
      "---  ------        --------------  -----  \n",
      " 0   business_id   2466 non-null   object \n",
      " 1   name          2466 non-null   object \n",
      " 2   address       2458 non-null   object \n",
      " 3   city          2466 non-null   object \n",
      " 4   state         2466 non-null   object \n",
      " 5   postal_code   2466 non-null   object \n",
      " 6   latitude      2466 non-null   float64\n",
      " 7   longitude     2466 non-null   float64\n",
      " 8   stars         2466 non-null   float64\n",
      " 9   review_count  2466 non-null   int64  \n",
      " 10  is_open       2466 non-null   int64  \n",
      " 11  attributes    2452 non-null   object \n",
      " 12  categories    2466 non-null   object \n",
      " 13  hours         2248 non-null   object \n",
      "dtypes: float64(3), int64(2), object(9)\n",
      "memory usage: 289.0+ KB\n"
     ]
    }
   ],
   "source": [
    "# transformamos la columnas \"latitude\" y \"longitude\" a tipo de dato float\n",
    "df_bars_florida[\"latitude\"] = df_bars_florida[\"latitude\"].astype(float)\n",
    "df_bars_florida[\"longitude\"] = df_bars_florida[\"longitude\"].astype(float)\n",
    "df_bars_florida.info()"
   ]
  },
  {
   "cell_type": "code",
   "execution_count": 12,
   "metadata": {},
   "outputs": [
    {
     "name": "stdout",
     "output_type": "stream",
     "text": [
      "<class 'pandas.core.frame.DataFrame'>\n",
      "Index: 2466 entries, 61 to 150292\n",
      "Data columns (total 14 columns):\n",
      " #   Column        Non-Null Count  Dtype  \n",
      "---  ------        --------------  -----  \n",
      " 0   business_id   2466 non-null   object \n",
      " 1   name          2466 non-null   object \n",
      " 2   address       2458 non-null   object \n",
      " 3   city          2466 non-null   object \n",
      " 4   state         2466 non-null   object \n",
      " 5   postal_code   2466 non-null   object \n",
      " 6   latitude      2466 non-null   float64\n",
      " 7   longitude     2466 non-null   float64\n",
      " 8   stars         2466 non-null   float64\n",
      " 9   review_count  2466 non-null   int64  \n",
      " 10  is_open       2466 non-null   int64  \n",
      " 11  attributes    2452 non-null   object \n",
      " 12  categories    2466 non-null   object \n",
      " 13  hours         2248 non-null   object \n",
      "dtypes: float64(3), int64(2), object(9)\n",
      "memory usage: 289.0+ KB\n"
     ]
    }
   ],
   "source": [
    "# Eliminamos los registros con todos los valores nulos\n",
    "df_bars_florida.dropna(how=\"all\", inplace=True)\n",
    "df_bars_florida.info()"
   ]
  },
  {
   "cell_type": "code",
   "execution_count": 13,
   "metadata": {},
   "outputs": [
    {
     "name": "stdout",
     "output_type": "stream",
     "text": [
      "<class 'pandas.core.frame.DataFrame'>\n",
      "Index: 2466 entries, 61 to 150292\n",
      "Data columns (total 15 columns):\n",
      " #   Column        Non-Null Count  Dtype  \n",
      "---  ------        --------------  -----  \n",
      " 0   business_id   2466 non-null   object \n",
      " 1   name          2466 non-null   object \n",
      " 2   address       2458 non-null   object \n",
      " 3   city          2466 non-null   object \n",
      " 4   state         2466 non-null   object \n",
      " 5   postal_code   2466 non-null   object \n",
      " 6   latitude      2466 non-null   float64\n",
      " 7   longitude     2466 non-null   float64\n",
      " 8   stars         2466 non-null   float64\n",
      " 9   review_count  2466 non-null   int64  \n",
      " 10  is_open       2466 non-null   int64  \n",
      " 11  attributes    2452 non-null   object \n",
      " 12  categories    2466 non-null   object \n",
      " 13  hours         2248 non-null   object \n",
      " 14  coordinates   2466 non-null   object \n",
      "dtypes: float64(3), int64(2), object(10)\n",
      "memory usage: 308.2+ KB\n"
     ]
    }
   ],
   "source": [
    "# Juntar las columnas \"latitude\" y \"longitude\"\n",
    "df_bars_florida['coordinates'] = [tuple(row) for row in df_bars_florida[['latitude', 'longitude']].values]\n",
    "df_bars_florida.info()"
   ]
  },
  {
   "cell_type": "markdown",
   "metadata": {},
   "source": [
    "#### Disponibilizamos el archivo"
   ]
  },
  {
   "cell_type": "code",
   "execution_count": 14,
   "metadata": {},
   "outputs": [],
   "source": [
    "df_bars_florida.to_csv(\"Data/New_data/df_bars_florida\")"
   ]
  },
  {
   "cell_type": "code",
   "execution_count": 15,
   "metadata": {},
   "outputs": [
    {
     "name": "stdout",
     "output_type": "stream",
     "text": [
      "<class 'pandas.core.frame.DataFrame'>\n",
      "RangeIndex: 908915 entries, 0 to 908914\n",
      "Data columns (total 5 columns):\n",
      " #   Column            Non-Null Count   Dtype         \n",
      "---  ------            --------------   -----         \n",
      " 0   user_id           908915 non-null  object        \n",
      " 1   business_id       908915 non-null  object        \n",
      " 2   text              908915 non-null  object        \n",
      " 3   date              908915 non-null  datetime64[ns]\n",
      " 4   compliment_count  908915 non-null  int64         \n",
      "dtypes: datetime64[ns](1), int64(1), object(3)\n",
      "memory usage: 34.7+ MB\n"
     ]
    }
   ],
   "source": [
    "# Leemos el siguiente archivo\n",
    "df_tip = pd.read_json(\"Data/tip.json\", lines=True)\n",
    "df_tip.info() # Visualizamos información"
   ]
  },
  {
   "cell_type": "code",
   "execution_count": 16,
   "metadata": {},
   "outputs": [],
   "source": [
    "# Definimos una función para realizar el filtrado de los dataframes con la columna \"business_id\"\n",
    "def filter_other_df(df):\n",
    "    unique_bars_ids = df_bars_florida[\"business_id\"].unique()\n",
    "    df_other_filtered = df[df[\"business_id\"].isin(unique_bars_ids)]\n",
    "    return df_other_filtered"
   ]
  },
  {
   "cell_type": "code",
   "execution_count": 17,
   "metadata": {},
   "outputs": [
    {
     "name": "stdout",
     "output_type": "stream",
     "text": [
      "<class 'pandas.core.frame.DataFrame'>\n",
      "Index: 43544 entries, 15 to 908911\n",
      "Data columns (total 5 columns):\n",
      " #   Column            Non-Null Count  Dtype         \n",
      "---  ------            --------------  -----         \n",
      " 0   user_id           43544 non-null  object        \n",
      " 1   business_id       43544 non-null  object        \n",
      " 2   text              43544 non-null  object        \n",
      " 3   date              43544 non-null  datetime64[ns]\n",
      " 4   compliment_count  43544 non-null  int64         \n",
      "dtypes: datetime64[ns](1), int64(1), object(3)\n",
      "memory usage: 2.0+ MB\n"
     ]
    }
   ],
   "source": [
    "# Aplicamos nuestra función al dataframe \"df_tip\"\n",
    "df_tips_florida = filter_other_df(df_tip)\n",
    "df_tips_florida.info()"
   ]
  },
  {
   "cell_type": "markdown",
   "metadata": {},
   "source": [
    "#### Necesitamos crear una columna, dentro de nuestro dataframe, que contenga una valoración numérica del sentimiento de análisis a partir de las reseñas hechas por los usuarios"
   ]
  },
  {
   "cell_type": "code",
   "execution_count": 18,
   "metadata": {},
   "outputs": [
    {
     "name": "stderr",
     "output_type": "stream",
     "text": [
      "[nltk_data] Downloading package vader_lexicon to\n",
      "[nltk_data]     C:\\Users\\Usuario\\AppData\\Roaming\\nltk_data...\n",
      "[nltk_data]   Package vader_lexicon is already up-to-date!\n"
     ]
    },
    {
     "name": "stdout",
     "output_type": "stream",
     "text": [
      "<class 'pandas.core.frame.DataFrame'>\n",
      "Index: 43544 entries, 15 to 908911\n",
      "Data columns (total 6 columns):\n",
      " #   Column              Non-Null Count  Dtype         \n",
      "---  ------              --------------  -----         \n",
      " 0   user_id             43544 non-null  object        \n",
      " 1   business_id         43544 non-null  object        \n",
      " 2   text                43544 non-null  object        \n",
      " 3   date                43544 non-null  datetime64[ns]\n",
      " 4   compliment_count    43544 non-null  int64         \n",
      " 5   sentiment_analysis  43544 non-null  float64       \n",
      "dtypes: datetime64[ns](1), float64(1), int64(1), object(3)\n",
      "memory usage: 2.3+ MB\n"
     ]
    }
   ],
   "source": [
    "import nltk\n",
    "nltk.download(\"vader_lexicon\")\n",
    "from nltk.sentiment.vader import SentimentIntensityAnalyzer\n",
    "\n",
    "def get_sentiment_score(text):\n",
    "    if pd.isnull(text) or text == \"\":\n",
    "        return 1  # Valor neutral si el texto está vacío o es NaN\n",
    "    elif isinstance(text, str):\n",
    "        # Realizamos análisis de sentimiento\n",
    "        sentiment = sia.polarity_scores(text)\n",
    "        compound_score = sentiment[\"compound\"]\n",
    "\n",
    "        # Escalamos la puntuación entre 1 y 5\n",
    "        score = int(round(5 * compound_score))\n",
    "\n",
    "        # Asignamos la puntuación\n",
    "        if score <= 2:\n",
    "            return 1\n",
    "        elif score <= 3:\n",
    "            return 2\n",
    "        elif score <= 4:\n",
    "            return 3\n",
    "        else:\n",
    "            return 4\n",
    "    else:\n",
    "        return 1  # Valor neutral para datos que no son de tipo cadena\n",
    "    \n",
    "# Instanciamos el modelo\n",
    "sia = SentimentIntensityAnalyzer()\n",
    "df_tips_florida[\"text\"] = df_tips_florida[\"text\"].astype(str)\n",
    "df_tips_florida[\"sentiment_analysis\"] = df_tips_florida[\"text\"].apply(get_sentiment_score)\n",
    "df_tips_florida[\"sentiment_analysis\"] = df_tips_florida[\"sentiment_analysis\"].astype(float)\n",
    "df_tips_florida.info()"
   ]
  },
  {
   "cell_type": "markdown",
   "metadata": {},
   "source": [
    "#### Disponibilzamos el archivo"
   ]
  },
  {
   "cell_type": "code",
   "execution_count": 19,
   "metadata": {},
   "outputs": [],
   "source": [
    "df_tips_florida.to_csv(\"Data/New_data/df_tips_florida\")"
   ]
  },
  {
   "cell_type": "code",
   "execution_count": 20,
   "metadata": {},
   "outputs": [
    {
     "name": "stdout",
     "output_type": "stream",
     "text": [
      "<class 'pandas.core.frame.DataFrame'>\n",
      "RangeIndex: 131930 entries, 0 to 131929\n",
      "Data columns (total 2 columns):\n",
      " #   Column       Non-Null Count   Dtype \n",
      "---  ------       --------------   ----- \n",
      " 0   business_id  131930 non-null  object\n",
      " 1   date         131930 non-null  object\n",
      "dtypes: object(2)\n",
      "memory usage: 2.0+ MB\n"
     ]
    }
   ],
   "source": [
    "# Leemos el siguiente archivo\n",
    "df_checkin = pd.read_json(\"Data/checkin.json\", lines=True)\n",
    "df_checkin.info() # Visualizamos información"
   ]
  },
  {
   "cell_type": "code",
   "execution_count": 21,
   "metadata": {},
   "outputs": [
    {
     "data": {
      "text/html": [
       "<div>\n",
       "<style scoped>\n",
       "    .dataframe tbody tr th:only-of-type {\n",
       "        vertical-align: middle;\n",
       "    }\n",
       "\n",
       "    .dataframe tbody tr th {\n",
       "        vertical-align: top;\n",
       "    }\n",
       "\n",
       "    .dataframe thead th {\n",
       "        text-align: right;\n",
       "    }\n",
       "</style>\n",
       "<table border=\"1\" class=\"dataframe\">\n",
       "  <thead>\n",
       "    <tr style=\"text-align: right;\">\n",
       "      <th></th>\n",
       "      <th>business_id</th>\n",
       "      <th>date</th>\n",
       "    </tr>\n",
       "  </thead>\n",
       "  <tbody>\n",
       "    <tr>\n",
       "      <th>0</th>\n",
       "      <td>---kPU91CF4Lq2-WlRu9Lw</td>\n",
       "      <td>2020-03-13 21:10:56, 2020-06-02 22:18:06, 2020...</td>\n",
       "    </tr>\n",
       "    <tr>\n",
       "      <th>1</th>\n",
       "      <td>--0iUa4sNDFiZFrAdIWhZQ</td>\n",
       "      <td>2010-09-13 21:43:09, 2011-05-04 23:08:15, 2011...</td>\n",
       "    </tr>\n",
       "    <tr>\n",
       "      <th>2</th>\n",
       "      <td>--30_8IhuyMHbSOcNWd6DQ</td>\n",
       "      <td>2013-06-14 23:29:17, 2014-08-13 23:20:22</td>\n",
       "    </tr>\n",
       "  </tbody>\n",
       "</table>\n",
       "</div>"
      ],
      "text/plain": [
       "              business_id                                               date\n",
       "0  ---kPU91CF4Lq2-WlRu9Lw  2020-03-13 21:10:56, 2020-06-02 22:18:06, 2020...\n",
       "1  --0iUa4sNDFiZFrAdIWhZQ  2010-09-13 21:43:09, 2011-05-04 23:08:15, 2011...\n",
       "2  --30_8IhuyMHbSOcNWd6DQ           2013-06-14 23:29:17, 2014-08-13 23:20:22"
      ]
     },
     "execution_count": 21,
     "metadata": {},
     "output_type": "execute_result"
    }
   ],
   "source": [
    "# Visualizamos la estructura del dataframe\n",
    "df_checkin.head(3)"
   ]
  },
  {
   "cell_type": "code",
   "execution_count": 22,
   "metadata": {},
   "outputs": [
    {
     "data": {
      "text/plain": [
       "'2020-03-13 21:10:56, 2020-06-02 22:18:06, 2020-07-24 22:42:27, 2020-10-24 21:36:13, 2020-12-09 21:23:33, 2021-01-20 17:34:57, 2021-04-30 21:02:03, 2021-05-25 21:16:54, 2021-08-06 21:08:08, 2021-10-02 15:15:42, 2021-11-11 16:23:50'"
      ]
     },
     "execution_count": 22,
     "metadata": {},
     "output_type": "execute_result"
    }
   ],
   "source": [
    "df_checkin[\"date\"][0]"
   ]
  },
  {
   "cell_type": "code",
   "execution_count": 23,
   "metadata": {},
   "outputs": [
    {
     "name": "stdout",
     "output_type": "stream",
     "text": [
      "<class 'pandas.core.frame.DataFrame'>\n",
      "Index: 2440 entries, 29 to 131895\n",
      "Data columns (total 2 columns):\n",
      " #   Column       Non-Null Count  Dtype \n",
      "---  ------       --------------  ----- \n",
      " 0   business_id  2440 non-null   object\n",
      " 1   date         2440 non-null   object\n",
      "dtypes: object(2)\n",
      "memory usage: 57.2+ KB\n"
     ]
    }
   ],
   "source": [
    "# Aplicamos nuestra función al dataframe \"df_checkin\"\n",
    "df_checkin_florida = filter_other_df(df_checkin)\n",
    "df_checkin_florida.info()"
   ]
  },
  {
   "cell_type": "markdown",
   "metadata": {},
   "source": [
    "#### Disponibilizamos el archivo"
   ]
  },
  {
   "cell_type": "code",
   "execution_count": 24,
   "metadata": {},
   "outputs": [],
   "source": [
    "df_checkin_florida.to_csv(\"Data/New_data/df_checkin_florida\")"
   ]
  },
  {
   "cell_type": "code",
   "execution_count": 26,
   "metadata": {},
   "outputs": [
    {
     "name": "stdout",
     "output_type": "stream",
     "text": [
      "<class 'pandas.core.frame.DataFrame'>\n",
      "RangeIndex: 1215334 entries, 0 to 1215333\n",
      "Data columns (total 8 columns):\n",
      " #   Column       Non-Null Count    Dtype \n",
      "---  ------       --------------    ----- \n",
      " 0   text         1215334 non-null  object\n",
      " 1   cool         1215334 non-null  int64 \n",
      " 2   stars        1215334 non-null  int64 \n",
      " 3   funny        1215334 non-null  int64 \n",
      " 4   review_id    1215334 non-null  object\n",
      " 5   useful       1215334 non-null  int64 \n",
      " 6   business_id  1215334 non-null  object\n",
      " 7   user_id      1215334 non-null  object\n",
      "dtypes: int64(4), object(4)\n",
      "memory usage: 74.2+ MB\n"
     ]
    }
   ],
   "source": [
    "# Procedemos con el siguiente archivo\n",
    "df_reviews = pd.read_csv(\"Data/reviews\")\n",
    "df_reviews.info()"
   ]
  },
  {
   "cell_type": "code",
   "execution_count": 27,
   "metadata": {},
   "outputs": [
    {
     "name": "stdout",
     "output_type": "stream",
     "text": [
      "<class 'pandas.core.frame.DataFrame'>\n",
      "Index: 314781 entries, 7 to 1215333\n",
      "Data columns (total 8 columns):\n",
      " #   Column       Non-Null Count   Dtype \n",
      "---  ------       --------------   ----- \n",
      " 0   text         314781 non-null  object\n",
      " 1   cool         314781 non-null  int64 \n",
      " 2   stars        314781 non-null  int64 \n",
      " 3   funny        314781 non-null  int64 \n",
      " 4   review_id    314781 non-null  object\n",
      " 5   useful       314781 non-null  int64 \n",
      " 6   business_id  314781 non-null  object\n",
      " 7   user_id      314781 non-null  object\n",
      "dtypes: int64(4), object(4)\n",
      "memory usage: 21.6+ MB\n"
     ]
    }
   ],
   "source": [
    "# Aplicamos nuestra función al dataframe \"df_reviews\"\n",
    "df_reviews_florida = filter_other_df(df_reviews)\n",
    "df_reviews_florida.info()"
   ]
  },
  {
   "cell_type": "code",
   "execution_count": 28,
   "metadata": {},
   "outputs": [
    {
     "data": {
      "text/html": [
       "<div>\n",
       "<style scoped>\n",
       "    .dataframe tbody tr th:only-of-type {\n",
       "        vertical-align: middle;\n",
       "    }\n",
       "\n",
       "    .dataframe tbody tr th {\n",
       "        vertical-align: top;\n",
       "    }\n",
       "\n",
       "    .dataframe thead th {\n",
       "        text-align: right;\n",
       "    }\n",
       "</style>\n",
       "<table border=\"1\" class=\"dataframe\">\n",
       "  <thead>\n",
       "    <tr style=\"text-align: right;\">\n",
       "      <th></th>\n",
       "      <th>text</th>\n",
       "      <th>cool</th>\n",
       "      <th>stars</th>\n",
       "      <th>funny</th>\n",
       "      <th>review_id</th>\n",
       "      <th>useful</th>\n",
       "      <th>business_id</th>\n",
       "      <th>user_id</th>\n",
       "    </tr>\n",
       "  </thead>\n",
       "  <tbody>\n",
       "    <tr>\n",
       "      <th>7</th>\n",
       "      <td>Another new slophouse open.This place won`t la...</td>\n",
       "      <td>0</td>\n",
       "      <td>1</td>\n",
       "      <td>1</td>\n",
       "      <td>aLEBvglItfeF2BCkzXf7Tg</td>\n",
       "      <td>0</td>\n",
       "      <td>-0M0b-XhtFagyLmsBtOe8w</td>\n",
       "      <td>5XPhGgEQ0W3WUDrdPfFdHA</td>\n",
       "    </tr>\n",
       "    <tr>\n",
       "      <th>46</th>\n",
       "      <td>I had high hopes for The Lemon Bar but was let...</td>\n",
       "      <td>2</td>\n",
       "      <td>1</td>\n",
       "      <td>0</td>\n",
       "      <td>tosz4koWxUjIsQIaZ8ZEpA</td>\n",
       "      <td>0</td>\n",
       "      <td>-1PG6k_iezwJmRZLB7f6og</td>\n",
       "      <td>HPL8K0kU1ufSJuC2eHeubw</td>\n",
       "    </tr>\n",
       "    <tr>\n",
       "      <th>47</th>\n",
       "      <td>Finally made it to Lemon Bar! I've been riding...</td>\n",
       "      <td>0</td>\n",
       "      <td>5</td>\n",
       "      <td>0</td>\n",
       "      <td>IKOTpz-PKBPC8zwhfZrIWw</td>\n",
       "      <td>0</td>\n",
       "      <td>-1PG6k_iezwJmRZLB7f6og</td>\n",
       "      <td>JQLJOK5gWjrsUBnrS0eNLA</td>\n",
       "    </tr>\n",
       "  </tbody>\n",
       "</table>\n",
       "</div>"
      ],
      "text/plain": [
       "                                                 text  cool  stars  funny  \\\n",
       "7   Another new slophouse open.This place won`t la...     0      1      1   \n",
       "46  I had high hopes for The Lemon Bar but was let...     2      1      0   \n",
       "47  Finally made it to Lemon Bar! I've been riding...     0      5      0   \n",
       "\n",
       "                 review_id  useful             business_id  \\\n",
       "7   aLEBvglItfeF2BCkzXf7Tg       0  -0M0b-XhtFagyLmsBtOe8w   \n",
       "46  tosz4koWxUjIsQIaZ8ZEpA       0  -1PG6k_iezwJmRZLB7f6og   \n",
       "47  IKOTpz-PKBPC8zwhfZrIWw       0  -1PG6k_iezwJmRZLB7f6og   \n",
       "\n",
       "                   user_id  \n",
       "7   5XPhGgEQ0W3WUDrdPfFdHA  \n",
       "46  HPL8K0kU1ufSJuC2eHeubw  \n",
       "47  JQLJOK5gWjrsUBnrS0eNLA  "
      ]
     },
     "execution_count": 28,
     "metadata": {},
     "output_type": "execute_result"
    }
   ],
   "source": [
    "df_reviews_florida.head(3)"
   ]
  },
  {
   "cell_type": "markdown",
   "metadata": {},
   "source": [
    "#### Disponibilizamos el archivo"
   ]
  },
  {
   "cell_type": "code",
   "execution_count": 29,
   "metadata": {},
   "outputs": [],
   "source": [
    "df_reviews_florida.to_csv(\"Data/New_data/df_reviews_florida\")"
   ]
  },
  {
   "cell_type": "code",
   "execution_count": 30,
   "metadata": {},
   "outputs": [
    {
     "name": "stdout",
     "output_type": "stream",
     "text": [
      "<class 'pandas.core.frame.DataFrame'>\n",
      "RangeIndex: 711497 entries, 0 to 711496\n",
      "Data columns (total 23 columns):\n",
      " #   Column              Non-Null Count   Dtype  \n",
      "---  ------              --------------   -----  \n",
      " 0   Unnamed: 0          711497 non-null  int64  \n",
      " 1   user_id             711497 non-null  object \n",
      " 2   name                711480 non-null  object \n",
      " 3   review_count        711497 non-null  int64  \n",
      " 4   yelping_since       711497 non-null  object \n",
      " 5   useful              711497 non-null  int64  \n",
      " 6   funny               711497 non-null  int64  \n",
      " 7   cool                711497 non-null  int64  \n",
      " 8   elite               72985 non-null   object \n",
      " 9   friends             467062 non-null  object \n",
      " 10  fans                711497 non-null  int64  \n",
      " 11  average_stars       711497 non-null  float64\n",
      " 12  compliment_hot      711497 non-null  int64  \n",
      " 13  compliment_more     711497 non-null  int64  \n",
      " 14  compliment_profile  711497 non-null  int64  \n",
      " 15  compliment_cute     711497 non-null  int64  \n",
      " 16  compliment_list     711497 non-null  int64  \n",
      " 17  compliment_note     711497 non-null  int64  \n",
      " 18  compliment_plain    711497 non-null  int64  \n",
      " 19  compliment_cool     711497 non-null  int64  \n",
      " 20  compliment_funny    711497 non-null  int64  \n",
      " 21  compliment_writer   711497 non-null  int64  \n",
      " 22  compliment_photos   711497 non-null  int64  \n",
      "dtypes: float64(1), int64(17), object(5)\n",
      "memory usage: 124.9+ MB\n"
     ]
    }
   ],
   "source": [
    "# Pasamos al siguiente archivo\n",
    "df_users_florida = pd.read_csv(\"Data/userfiltrado.csv\")\n",
    "df_users_florida.info()"
   ]
  },
  {
   "cell_type": "code",
   "execution_count": 31,
   "metadata": {},
   "outputs": [
    {
     "name": "stdout",
     "output_type": "stream",
     "text": [
      "<class 'pandas.core.frame.DataFrame'>\n",
      "Index: 30511 entries, 1 to 711496\n",
      "Data columns (total 23 columns):\n",
      " #   Column              Non-Null Count  Dtype  \n",
      "---  ------              --------------  -----  \n",
      " 0   Unnamed: 0          30511 non-null  int64  \n",
      " 1   user_id             30511 non-null  object \n",
      " 2   name                30511 non-null  object \n",
      " 3   review_count        30511 non-null  int64  \n",
      " 4   yelping_since       30511 non-null  object \n",
      " 5   useful              30511 non-null  int64  \n",
      " 6   funny               30511 non-null  int64  \n",
      " 7   cool                30511 non-null  int64  \n",
      " 8   elite               9015 non-null   object \n",
      " 9   friends             26956 non-null  object \n",
      " 10  fans                30511 non-null  int64  \n",
      " 11  average_stars       30511 non-null  float64\n",
      " 12  compliment_hot      30511 non-null  int64  \n",
      " 13  compliment_more     30511 non-null  int64  \n",
      " 14  compliment_profile  30511 non-null  int64  \n",
      " 15  compliment_cute     30511 non-null  int64  \n",
      " 16  compliment_list     30511 non-null  int64  \n",
      " 17  compliment_note     30511 non-null  int64  \n",
      " 18  compliment_plain    30511 non-null  int64  \n",
      " 19  compliment_cool     30511 non-null  int64  \n",
      " 20  compliment_funny    30511 non-null  int64  \n",
      " 21  compliment_writer   30511 non-null  int64  \n",
      " 22  compliment_photos   30511 non-null  int64  \n",
      "dtypes: float64(1), int64(17), object(5)\n",
      "memory usage: 5.6+ MB\n"
     ]
    }
   ],
   "source": [
    "# Definimos una función para realizar el filtrado de los dataframes con la columna \"user_id\"\n",
    "def filter_other_df_by_user(df):\n",
    "    unique_bars_ids = df_tips_florida[\"user_id\"].unique()\n",
    "    df_other_filtered = df[df[\"user_id\"].isin(unique_bars_ids)]\n",
    "    return df_other_filtered\n",
    "\n",
    "# Aplicamos nuestra función al dataframe \"df_checkin\"\n",
    "df_users_bars = filter_other_df_by_user(df_users_florida)\n",
    "df_users_bars.info()"
   ]
  },
  {
   "cell_type": "markdown",
   "metadata": {},
   "source": [
    "#### Disponibilizamos el archivo"
   ]
  },
  {
   "cell_type": "code",
   "execution_count": 32,
   "metadata": {},
   "outputs": [],
   "source": [
    "df_users_bars.to_csv(\"Data/New_data/df_users_bars\")"
   ]
  },
  {
   "cell_type": "code",
   "execution_count": 33,
   "metadata": {},
   "outputs": [
    {
     "name": "stdout",
     "output_type": "stream",
     "text": [
      "<class 'pandas.core.frame.DataFrame'>\n",
      "Index: 220140 entries, 14 to 3025009\n",
      "Data columns (total 15 columns):\n",
      " #   Column            Non-Null Count   Dtype  \n",
      "---  ------            --------------   -----  \n",
      " 0   name              220140 non-null  object \n",
      " 1   address           220140 non-null  object \n",
      " 2   gmap_id           220140 non-null  object \n",
      " 3   description       18256 non-null   object \n",
      " 4   latitude          220140 non-null  float64\n",
      " 5   longitude         220140 non-null  float64\n",
      " 6   category          218724 non-null  object \n",
      " 7   avg_rating        220140 non-null  float64\n",
      " 8   num_of_reviews    220140 non-null  int64  \n",
      " 9   price             18397 non-null   object \n",
      " 10  hours             168798 non-null  object \n",
      " 11  MISC              176899 non-null  object \n",
      " 12  state             220140 non-null  object \n",
      " 13  relative_results  196959 non-null  object \n",
      " 14  url               220140 non-null  object \n",
      "dtypes: float64(3), int64(1), object(11)\n",
      "memory usage: 26.9+ MB\n"
     ]
    }
   ],
   "source": [
    "# Siguiente archivo\n",
    "df_metadatos_florida = pd.read_parquet(\"Data/metadatos_florida.parquet\")\n",
    "df_metadatos_florida.info()"
   ]
  },
  {
   "cell_type": "code",
   "execution_count": 34,
   "metadata": {},
   "outputs": [
    {
     "data": {
      "text/html": [
       "<div>\n",
       "<style scoped>\n",
       "    .dataframe tbody tr th:only-of-type {\n",
       "        vertical-align: middle;\n",
       "    }\n",
       "\n",
       "    .dataframe tbody tr th {\n",
       "        vertical-align: top;\n",
       "    }\n",
       "\n",
       "    .dataframe thead th {\n",
       "        text-align: right;\n",
       "    }\n",
       "</style>\n",
       "<table border=\"1\" class=\"dataframe\">\n",
       "  <thead>\n",
       "    <tr style=\"text-align: right;\">\n",
       "      <th></th>\n",
       "      <th>name</th>\n",
       "      <th>address</th>\n",
       "      <th>gmap_id</th>\n",
       "      <th>description</th>\n",
       "      <th>latitude</th>\n",
       "      <th>longitude</th>\n",
       "      <th>category</th>\n",
       "      <th>avg_rating</th>\n",
       "      <th>num_of_reviews</th>\n",
       "      <th>price</th>\n",
       "      <th>hours</th>\n",
       "      <th>MISC</th>\n",
       "      <th>state</th>\n",
       "      <th>relative_results</th>\n",
       "      <th>url</th>\n",
       "    </tr>\n",
       "  </thead>\n",
       "  <tbody>\n",
       "    <tr>\n",
       "      <th>14</th>\n",
       "      <td>NTK OUTDOOR</td>\n",
       "      <td>NTK OUTDOOR, 2315 NW 107th Ave #1B18, Miami, F...</td>\n",
       "      <td>0x88d9beb4fe0532c1:0xef0555c169299d6</td>\n",
       "      <td>None</td>\n",
       "      <td>25.795204</td>\n",
       "      <td>-80.366038</td>\n",
       "      <td>[Corporate office]</td>\n",
       "      <td>5.0</td>\n",
       "      <td>35</td>\n",
       "      <td>None</td>\n",
       "      <td>[[Thursday, 9AM–6PM], [Friday, 9AM–6PM], [Satu...</td>\n",
       "      <td>{'Accessibility': ['Wheelchair accessible entr...</td>\n",
       "      <td>Open ⋅ Closes 6PM</td>\n",
       "      <td>[0x88d9bfd49a624c3f:0x280afc17e8164d79, 0x88d9...</td>\n",
       "      <td>https://www.google.com/maps/place//data=!4m2!3...</td>\n",
       "    </tr>\n",
       "    <tr>\n",
       "      <th>45</th>\n",
       "      <td>Cruises Inc. - Connie Stewart</td>\n",
       "      <td>Cruises Inc. - Connie Stewart, 6602 52nd Ln, P...</td>\n",
       "      <td>0x88c2e49b79f06c31:0x4ed8c8ce27e926e0</td>\n",
       "      <td>None</td>\n",
       "      <td>27.832187</td>\n",
       "      <td>-82.704805</td>\n",
       "      <td>[Cruise agency]</td>\n",
       "      <td>5.0</td>\n",
       "      <td>2</td>\n",
       "      <td>None</td>\n",
       "      <td>[[Thursday, 9AM–5PM], [Friday, 9AM–5PM], [Satu...</td>\n",
       "      <td>None</td>\n",
       "      <td>Open ⋅ Closes 5PM</td>\n",
       "      <td>[0x88c2fd3f88a7ab09:0x56dad3c1999b618f, 0x88c2...</td>\n",
       "      <td>https://www.google.com/maps/place//data=!4m2!3...</td>\n",
       "    </tr>\n",
       "    <tr>\n",
       "      <th>56</th>\n",
       "      <td>Seminole Family Restaurant</td>\n",
       "      <td>Seminole Family Restaurant, 6864 Seminole Blvd...</td>\n",
       "      <td>0x88c2fb8614e57ce9:0x40b51628875ad6e9</td>\n",
       "      <td>None</td>\n",
       "      <td>27.834885</td>\n",
       "      <td>-82.787419</td>\n",
       "      <td>None</td>\n",
       "      <td>3.6</td>\n",
       "      <td>8</td>\n",
       "      <td>$$</td>\n",
       "      <td>None</td>\n",
       "      <td>None</td>\n",
       "      <td>None</td>\n",
       "      <td>[0x88c2fc799a3fa1ad:0x2d1a46c8f525bf3e, 0x88c2...</td>\n",
       "      <td>https://www.google.com/maps/place//data=!4m2!3...</td>\n",
       "    </tr>\n",
       "  </tbody>\n",
       "</table>\n",
       "</div>"
      ],
      "text/plain": [
       "                             name  \\\n",
       "14                    NTK OUTDOOR   \n",
       "45  Cruises Inc. - Connie Stewart   \n",
       "56     Seminole Family Restaurant   \n",
       "\n",
       "                                              address  \\\n",
       "14  NTK OUTDOOR, 2315 NW 107th Ave #1B18, Miami, F...   \n",
       "45  Cruises Inc. - Connie Stewart, 6602 52nd Ln, P...   \n",
       "56  Seminole Family Restaurant, 6864 Seminole Blvd...   \n",
       "\n",
       "                                  gmap_id description   latitude  longitude  \\\n",
       "14   0x88d9beb4fe0532c1:0xef0555c169299d6        None  25.795204 -80.366038   \n",
       "45  0x88c2e49b79f06c31:0x4ed8c8ce27e926e0        None  27.832187 -82.704805   \n",
       "56  0x88c2fb8614e57ce9:0x40b51628875ad6e9        None  27.834885 -82.787419   \n",
       "\n",
       "              category  avg_rating  num_of_reviews price  \\\n",
       "14  [Corporate office]         5.0              35  None   \n",
       "45     [Cruise agency]         5.0               2  None   \n",
       "56                None         3.6               8    $$   \n",
       "\n",
       "                                                hours  \\\n",
       "14  [[Thursday, 9AM–6PM], [Friday, 9AM–6PM], [Satu...   \n",
       "45  [[Thursday, 9AM–5PM], [Friday, 9AM–5PM], [Satu...   \n",
       "56                                               None   \n",
       "\n",
       "                                                 MISC              state  \\\n",
       "14  {'Accessibility': ['Wheelchair accessible entr...  Open ⋅ Closes 6PM   \n",
       "45                                               None  Open ⋅ Closes 5PM   \n",
       "56                                               None               None   \n",
       "\n",
       "                                     relative_results  \\\n",
       "14  [0x88d9bfd49a624c3f:0x280afc17e8164d79, 0x88d9...   \n",
       "45  [0x88c2fd3f88a7ab09:0x56dad3c1999b618f, 0x88c2...   \n",
       "56  [0x88c2fc799a3fa1ad:0x2d1a46c8f525bf3e, 0x88c2...   \n",
       "\n",
       "                                                  url  \n",
       "14  https://www.google.com/maps/place//data=!4m2!3...  \n",
       "45  https://www.google.com/maps/place//data=!4m2!3...  \n",
       "56  https://www.google.com/maps/place//data=!4m2!3...  "
      ]
     },
     "execution_count": 34,
     "metadata": {},
     "output_type": "execute_result"
    }
   ],
   "source": [
    "# Visualizamos la estructura\n",
    "df_metadatos_florida.head(3)"
   ]
  },
  {
   "cell_type": "code",
   "execution_count": 35,
   "metadata": {},
   "outputs": [
    {
     "name": "stdout",
     "output_type": "stream",
     "text": [
      "<class 'pandas.core.frame.DataFrame'>\n",
      "Index: 2466 entries, 61 to 150292\n",
      "Data columns (total 15 columns):\n",
      " #   Column        Non-Null Count  Dtype  \n",
      "---  ------        --------------  -----  \n",
      " 0   business_id   2466 non-null   object \n",
      " 1   name          2466 non-null   object \n",
      " 2   address       2458 non-null   object \n",
      " 3   city          2466 non-null   object \n",
      " 4   state         2466 non-null   object \n",
      " 5   postal_code   2466 non-null   object \n",
      " 6   latitude      2466 non-null   float64\n",
      " 7   longitude     2466 non-null   float64\n",
      " 8   stars         2466 non-null   float64\n",
      " 9   review_count  2466 non-null   int64  \n",
      " 10  is_open       2466 non-null   int64  \n",
      " 11  attributes    2452 non-null   object \n",
      " 12  categories    2466 non-null   object \n",
      " 13  hours         2248 non-null   object \n",
      " 14  coordinates   2466 non-null   object \n",
      "dtypes: float64(3), int64(2), object(10)\n",
      "memory usage: 308.2+ KB\n"
     ]
    }
   ],
   "source": [
    "df_bars_florida.info()"
   ]
  },
  {
   "cell_type": "code",
   "execution_count": 36,
   "metadata": {},
   "outputs": [],
   "source": [
    "# Definimos una función para realizar el filtrado de los dataframes con la columna \"address\"\n",
    "def filter_other_df_by_name(df):\n",
    "    unique_bars_ids = df_bars_florida[\"name\"].unique()\n",
    "    df_other_filtered = df[df[\"name\"].isin(unique_bars_ids)]\n",
    "    return df_other_filtered"
   ]
  },
  {
   "cell_type": "code",
   "execution_count": 37,
   "metadata": {},
   "outputs": [
    {
     "name": "stdout",
     "output_type": "stream",
     "text": [
      "<class 'pandas.core.frame.DataFrame'>\n",
      "Index: 445 entries, 16968 to 3023137\n",
      "Data columns (total 15 columns):\n",
      " #   Column            Non-Null Count  Dtype  \n",
      "---  ------            --------------  -----  \n",
      " 0   name              445 non-null    object \n",
      " 1   address           445 non-null    object \n",
      " 2   gmap_id           445 non-null    object \n",
      " 3   description       340 non-null    object \n",
      " 4   latitude          445 non-null    float64\n",
      " 5   longitude         445 non-null    float64\n",
      " 6   category          443 non-null    object \n",
      " 7   avg_rating        445 non-null    float64\n",
      " 8   num_of_reviews    445 non-null    int64  \n",
      " 9   price             268 non-null    object \n",
      " 10  hours             376 non-null    object \n",
      " 11  MISC              433 non-null    object \n",
      " 12  state             445 non-null    object \n",
      " 13  relative_results  375 non-null    object \n",
      " 14  url               445 non-null    object \n",
      "dtypes: float64(3), int64(1), object(11)\n",
      "memory usage: 55.6+ KB\n"
     ]
    }
   ],
   "source": [
    "# Aplicamos nuestra función al dataframe \"df_metadatos_florida\"\n",
    "df_bars_florida[\"name\"] = df_bars_florida[\"name\"].astype(str)\n",
    "df_metadatos_florida[\"name\"] = df_metadatos_florida[\"name\"].astype(str)\n",
    "df_metadatos_bars_fl = filter_other_df_by_name(df_metadatos_florida)\n",
    "df_metadatos_bars_fl.info()"
   ]
  },
  {
   "cell_type": "markdown",
   "metadata": {},
   "source": [
    "#### Disponibilizamos el archivo, tiene metadatos de menos de 500 bares, podría servir como dataset auxiliar e en el análisis multivariado del area de analítica"
   ]
  },
  {
   "cell_type": "code",
   "execution_count": 38,
   "metadata": {},
   "outputs": [],
   "source": [
    "df_metadatos_bars_fl.to_csv(\"Data/New_data/df_metadatos_bars_fl\")"
   ]
  },
  {
   "cell_type": "code",
   "execution_count": 39,
   "metadata": {},
   "outputs": [
    {
     "name": "stdout",
     "output_type": "stream",
     "text": [
      "<class 'pandas.core.frame.DataFrame'>\n",
      "RangeIndex: 2850000 entries, 0 to 2849999\n",
      "Data columns (total 8 columns):\n",
      " #   Column   Dtype  \n",
      "---  ------   -----  \n",
      " 0   user_id  float64\n",
      " 1   name     object \n",
      " 2   time     int64  \n",
      " 3   rating   int64  \n",
      " 4   text     object \n",
      " 5   pics     object \n",
      " 6   resp     object \n",
      " 7   gmap_id  object \n",
      "dtypes: float64(1), int64(2), object(5)\n",
      "memory usage: 174.0+ MB\n"
     ]
    }
   ],
   "source": [
    "# Pasamos al siguiente archivo\n",
    "df_reviews_2_florida = pd.read_parquet(\"Data/df_reviews_florida.parquet\")\n",
    "df_reviews_2_florida.info()"
   ]
  },
  {
   "cell_type": "code",
   "execution_count": 40,
   "metadata": {},
   "outputs": [],
   "source": [
    "# Definimos una función para realizar el filtrado de los dataframes con la columna \"gmap_id\"\n",
    "def filter_other_df_by_gmap_id(df):\n",
    "    unique_gmap_ids = df_metadatos_bars_fl[\"gmap_id\"].unique()\n",
    "    df_other_filtered = df[df[\"gmap_id\"].isin(unique_gmap_ids)]\n",
    "    return df_other_filtered"
   ]
  },
  {
   "cell_type": "code",
   "execution_count": 41,
   "metadata": {},
   "outputs": [
    {
     "name": "stdout",
     "output_type": "stream",
     "text": [
      "<class 'pandas.core.frame.DataFrame'>\n",
      "Index: 76013 entries, 6002 to 2844358\n",
      "Data columns (total 8 columns):\n",
      " #   Column   Non-Null Count  Dtype  \n",
      "---  ------   --------------  -----  \n",
      " 0   user_id  76013 non-null  float64\n",
      " 1   name     76013 non-null  object \n",
      " 2   time     76013 non-null  int64  \n",
      " 3   rating   76013 non-null  int64  \n",
      " 4   text     45635 non-null  object \n",
      " 5   pics     3216 non-null   object \n",
      " 6   resp     15338 non-null  object \n",
      " 7   gmap_id  76013 non-null  object \n",
      "dtypes: float64(1), int64(2), object(5)\n",
      "memory usage: 5.2+ MB\n"
     ]
    }
   ],
   "source": [
    "df_reviews_2_bars = filter_other_df_by_gmap_id(df_reviews_2_florida)\n",
    "df_reviews_2_bars.info()"
   ]
  },
  {
   "cell_type": "markdown",
   "metadata": {},
   "source": [
    "#### Disponibiizamos el archivo"
   ]
  },
  {
   "cell_type": "code",
   "execution_count": 42,
   "metadata": {},
   "outputs": [],
   "source": [
    "df_reviews_2_bars.to_csv(\"Data/New_data/df_reviews_2_bars\")"
   ]
  }
 ],
 "metadata": {
  "kernelspec": {
   "display_name": "Python 3",
   "language": "python",
   "name": "python3"
  },
  "language_info": {
   "codemirror_mode": {
    "name": "ipython",
    "version": 3
   },
   "file_extension": ".py",
   "mimetype": "text/x-python",
   "name": "python",
   "nbconvert_exporter": "python",
   "pygments_lexer": "ipython3",
   "version": "3.12.0"
  }
 },
 "nbformat": 4,
 "nbformat_minor": 2
}
